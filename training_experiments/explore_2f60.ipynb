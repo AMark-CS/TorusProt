{
 "cells": [
  {
   "cell_type": "code",
   "execution_count": 2,
   "metadata": {},
   "outputs": [
    {
     "name": "stdout",
     "output_type": "stream",
     "text": [
      "env: GEOMSTATS_BACKEND=pytorch\n"
     ]
    }
   ],
   "source": [
    "%env GEOMSTATS_BACKEND=pytorch"
   ]
  },
  {
   "cell_type": "code",
   "execution_count": 3,
   "metadata": {},
   "outputs": [
    {
     "name": "stderr",
     "output_type": "stream",
     "text": [
      "\u001b[34m\u001b[1mwandb\u001b[0m: Currently logged in as: \u001b[33mstanislav-chekmenev\u001b[0m to \u001b[32mhttps://api.wandb.ai\u001b[0m. Use \u001b[1m`wandb login --relogin`\u001b[0m to force relogin\n"
     ]
    },
    {
     "data": {
      "text/html": [
       "creating run (0.0s)"
      ],
      "text/plain": [
       "<IPython.core.display.HTML object>"
      ]
     },
     "metadata": {},
     "output_type": "display_data"
    },
    {
     "data": {
      "text/html": [
       "Tracking run with wandb version 0.19.10"
      ],
      "text/plain": [
       "<IPython.core.display.HTML object>"
      ]
     },
     "metadata": {},
     "output_type": "display_data"
    },
    {
     "data": {
      "text/html": [
       "Run data is saved locally in <code>/home/stas/code_projects/foldflow/training_experiments/wandb/run-20250425_135400-l9x3c4ry</code>"
      ],
      "text/plain": [
       "<IPython.core.display.HTML object>"
      ]
     },
     "metadata": {},
     "output_type": "display_data"
    },
    {
     "data": {
      "text/html": [
       "Syncing run <strong><a href='https://wandb.ai/stanislav-chekmenev/foldflow/runs/l9x3c4ry' target=\"_blank\">vis-2f60</a></strong> to <a href='https://wandb.ai/stanislav-chekmenev/foldflow' target=\"_blank\">Weights & Biases</a> (<a href='https://wandb.me/developer-guide' target=\"_blank\">docs</a>)<br>"
      ],
      "text/plain": [
       "<IPython.core.display.HTML object>"
      ]
     },
     "metadata": {},
     "output_type": "display_data"
    },
    {
     "data": {
      "text/html": [
       " View project at <a href='https://wandb.ai/stanislav-chekmenev/foldflow' target=\"_blank\">https://wandb.ai/stanislav-chekmenev/foldflow</a>"
      ],
      "text/plain": [
       "<IPython.core.display.HTML object>"
      ]
     },
     "metadata": {},
     "output_type": "display_data"
    },
    {
     "data": {
      "text/html": [
       " View run at <a href='https://wandb.ai/stanislav-chekmenev/foldflow/runs/l9x3c4ry' target=\"_blank\">https://wandb.ai/stanislav-chekmenev/foldflow/runs/l9x3c4ry</a>"
      ],
      "text/plain": [
       "<IPython.core.display.HTML object>"
      ]
     },
     "metadata": {},
     "output_type": "display_data"
    },
    {
     "data": {
      "text/html": [
       "<button onClick=\"this.nextSibling.style.display='block';this.style.display='none';\">Display W&B run</button><iframe src='https://wandb.ai/stanislav-chekmenev/foldflow/runs/l9x3c4ry?jupyter=true' style='border:none;width:100%;height:420px;display:none;'></iframe>"
      ],
      "text/plain": [
       "<wandb.sdk.wandb_run.Run at 0x7900dfe3d000>"
      ]
     },
     "execution_count": 3,
     "metadata": {},
     "output_type": "execute_result"
    }
   ],
   "source": [
    "import sys\n",
    "\n",
    "sys.path.append(\"../\")\n",
    "\n",
    "import numpy as np\n",
    "import os\n",
    "import pickle\n",
    "import wandb\n",
    "\n",
    "from foldflow.data import utils as du\n",
    "from foldflow.data import residue_constants\n",
    "from tools.analysis.utils import write_prot_to_pdb\n",
    "\n",
    "wandb.init(project=\"foldflow\", entity=None, name=\"vis-2f60\")"
   ]
  },
  {
   "cell_type": "code",
   "execution_count": 4,
   "metadata": {},
   "outputs": [
    {
     "name": "stdout",
     "output_type": "stream",
     "text": [
      "Number of possible atom types: 37\n",
      "{'N': 0, 'CA': 1, 'C': 2, 'CB': 3, 'O': 4, 'CG': 5, 'CG1': 6, 'CG2': 7, 'OG': 8, 'OG1': 9, 'SG': 10, 'CD': 11, 'CD1': 12, 'CD2': 13, 'ND1': 14, 'ND2': 15, 'OD1': 16, 'OD2': 17, 'SD': 18, 'CE': 19, 'CE1': 20, 'CE2': 21, 'CE3': 22, 'NE': 23, 'NE1': 24, 'NE2': 25, 'OE1': 26, 'OE2': 27, 'CH2': 28, 'NH1': 29, 'NH2': 30, 'OH': 31, 'CZ': 32, 'CZ2': 33, 'CZ3': 34, 'NZ': 35, 'OXT': 36}\n"
     ]
    }
   ],
   "source": [
    "print(\"Number of possible atom types:\", len(residue_constants.atom_types))\n",
    "print(residue_constants.atom_order)"
   ]
  },
  {
   "cell_type": "code",
   "execution_count": 5,
   "metadata": {},
   "outputs": [
    {
     "name": "stdout",
     "output_type": "stream",
     "text": [
      "Short restype order: {'A': 0, 'R': 1, 'N': 2, 'D': 3, 'C': 4, 'Q': 5, 'E': 6, 'G': 7, 'H': 8, 'I': 9, 'L': 10, 'K': 11, 'M': 12, 'F': 13, 'P': 14, 'S': 15, 'T': 16, 'W': 17, 'Y': 18, 'V': 19, 'X': 20}\n",
      "Full restype order: {'ALA': 0, 'ARG': 1, 'ASN': 2, 'ASP': 3, 'CYS': 4, 'GLN': 5, 'GLU': 6, 'GLY': 7, 'HIS': 8, 'ILE': 9, 'LEU': 10, 'LYS': 11, 'MET': 12, 'PHE': 13, 'PRO': 14, 'SER': 15, 'THR': 16, 'TRP': 17, 'TYR': 18, 'VAL': 19, 'UNK': 20}\n"
     ]
    }
   ],
   "source": [
    "print(\"Short restype order:\", residue_constants.restype_order_with_x)\n",
    "print(\"Full restype order:\", residue_constants.resname_to_idx)"
   ]
  },
  {
   "cell_type": "code",
   "execution_count": 6,
   "metadata": {},
   "outputs": [
    {
     "name": "stdout",
     "output_type": "stream",
     "text": [
      "Rigid group backbone: \n",
      "[[1. 0. 0. 0.]\n",
      " [0. 1. 0. 0.]\n",
      " [0. 0. 1. 0.]\n",
      " [0. 0. 0. 1.]]\n",
      "\n",
      "Rigid group pre-omega: \n",
      "[[1. 0. 0. 0.]\n",
      " [0. 1. 0. 0.]\n",
      " [0. 0. 1. 0.]\n",
      " [0. 0. 0. 1.]]\n",
      "\n",
      "Rigid group phi: \n",
      "[[-0.35907093  0.9333103   0.         -0.524     ]\n",
      " [ 0.9333103   0.35907093  0.          1.362     ]\n",
      " [-0.          0.         -1.         -0.        ]\n",
      " [ 0.          0.          0.          1.        ]]\n",
      "\n",
      "Rigid group psi: \n",
      "[[ 1.     0.    -0.     1.525]\n",
      " [-0.    -1.    -0.    -0.   ]\n",
      " [-0.     0.    -1.    -0.   ]\n",
      " [ 0.     0.     0.     1.   ]]\n",
      "\n",
      "Rigid group chi1: \n",
      "[[-0.3424368  -0.51215166  0.7876787  -0.524     ]\n",
      " [-0.50842714  0.80601937  0.30304232 -0.778     ]\n",
      " [-0.79008794 -0.29670438 -0.53640246 -1.209     ]\n",
      " [ 0.          0.          0.          1.        ]]\n",
      "\n",
      "Rigid group chi2: \n",
      "[[ 0.4051618 -0.914245   0.         0.616    ]\n",
      " [ 0.914245   0.4051618  0.         1.39     ]\n",
      " [-0.         0.         1.        -0.       ]\n",
      " [ 0.         0.         0.         1.       ]]\n",
      "\n",
      "Rigid group chi3: \n",
      "[[ 0.37048444 -0.9288387   0.          0.564     ]\n",
      " [ 0.9288387   0.37048444 -0.          1.414     ]\n",
      " [ 0.          0.          1.          0.        ]\n",
      " [ 0.          0.          0.          1.        ]]\n",
      "\n",
      "Rigid group chi4: \n",
      "[[ 0.36914605 -0.9293714   0.          0.539     ]\n",
      " [ 0.9293714   0.36914605  0.          1.357     ]\n",
      " [-0.          0.          1.         -0.        ]\n",
      " [ 0.          0.          0.          1.        ]]\n",
      "\n"
     ]
    }
   ],
   "source": [
    "# Atoms positions relative to the 8 rigid groups, defined by the pre-omega, phi,\n",
    "# psi and chi angles:\n",
    "# 0: 'backbone group',\n",
    "# 1: 'pre-omega-group', (empty)\n",
    "# 2: 'phi-group', (currently empty, because it defines only hydrogens)\n",
    "# 3: 'psi-group',\n",
    "# 4,5,6,7: 'chi1,2,3,4-group'\n",
    "\n",
    "# Let's plot that for arginine:\n",
    "rigid_groups = {\"backbone\": 0, \"pre-omega\": 1, \"phi\": 2, \"psi\": 3, \"chi1\": 4, \"chi2\": 5, \"chi3\": 6, \"chi4\": 7}\n",
    "\n",
    "for rigid_group_name, rigid_group_idx in rigid_groups.items():\n",
    "    group_data = residue_constants.restype_rigid_group_default_frame[1][rigid_group_idx]\n",
    "    print(f\"Rigid group {rigid_group_name}: \\n{group_data}\\n\")"
   ]
  },
  {
   "cell_type": "code",
   "execution_count": 7,
   "metadata": {},
   "outputs": [
    {
     "name": "stderr",
     "output_type": "stream",
     "text": [
      "/tmp/ipykernel_44340/4060933795.py:2: DeprecationWarning: numpy.core.numeric is deprecated and has been renamed to numpy._core.numeric. The numpy._core namespace contains private NumPy internals and its use is discouraged, as NumPy internals can change without warning in any release. In practice, most real-world usage of numpy.core is to access functionality in the public NumPy API. If that is the case, use the public NumPy API. If not, you are using NumPy internals. If you would still like to access an internal attribute, use numpy._core.numeric._frombuffer.\n",
      "  data = pickle.load(f)\n"
     ]
    }
   ],
   "source": [
    "with open(\"../data/2f60.pkl\", \"rb\") as f:\n",
    "    data = pickle.load(f)"
   ]
  },
  {
   "cell_type": "code",
   "execution_count": 10,
   "metadata": {},
   "outputs": [
    {
     "name": "stdout",
     "output_type": "stream",
     "text": [
      "Atom positions of the first residue of the protein:\n"
     ]
    },
    {
     "data": {
      "text/plain": [
       "array([[-5.1976315 , -5.42995258, 15.23373318],\n",
       "       [-3.87963166, -6.11195178, 14.99373341],\n",
       "       [-2.66863122, -5.24695201, 15.38573265],\n",
       "       [-3.70063128, -6.53995319, 13.53573322],\n",
       "       [-1.70463147, -5.77595325, 16.00773335],\n",
       "       [-3.84163155, -8.03495212, 13.30173302],\n",
       "       [-0.        ,  0.        ,  0.        ],\n",
       "       [-0.        ,  0.        ,  0.        ],\n",
       "       [-0.        ,  0.        ,  0.        ],\n",
       "       [-0.        ,  0.        ,  0.        ],\n",
       "       [-0.        ,  0.        ,  0.        ],\n",
       "       [-3.52163138, -8.43095203, 11.87273312],\n",
       "       [-0.        ,  0.        ,  0.        ],\n",
       "       [-0.        ,  0.        ,  0.        ],\n",
       "       [-0.        ,  0.        ,  0.        ],\n",
       "       [-0.        ,  0.        ,  0.        ],\n",
       "       [-0.        ,  0.        ,  0.        ],\n",
       "       [-0.        ,  0.        ,  0.        ],\n",
       "       [-0.        ,  0.        ,  0.        ],\n",
       "       [-0.        ,  0.        ,  0.        ],\n",
       "       [-0.        ,  0.        ,  0.        ],\n",
       "       [-0.        ,  0.        ,  0.        ],\n",
       "       [-0.        ,  0.        ,  0.        ],\n",
       "       [-0.        ,  0.        ,  0.        ],\n",
       "       [-0.        ,  0.        ,  0.        ],\n",
       "       [-0.        ,  0.        ,  0.        ],\n",
       "       [-4.24863162, -7.99495311, 10.9557333 ],\n",
       "       [-2.53963151, -9.17595287, 11.66673279],\n",
       "       [-0.        ,  0.        ,  0.        ],\n",
       "       [-0.        ,  0.        ,  0.        ],\n",
       "       [-0.        ,  0.        ,  0.        ],\n",
       "       [-0.        ,  0.        ,  0.        ],\n",
       "       [-0.        ,  0.        ,  0.        ],\n",
       "       [-0.        ,  0.        ,  0.        ],\n",
       "       [-0.        ,  0.        ,  0.        ],\n",
       "       [-0.        ,  0.        ,  0.        ],\n",
       "       [-0.        ,  0.        ,  0.        ]])"
      ]
     },
     "execution_count": 10,
     "metadata": {},
     "output_type": "execute_result"
    }
   ],
   "source": [
    "print(\"Atom positions of the first residue of the protein:\")\n",
    "data[\"atom_positions\"][0]"
   ]
  },
  {
   "cell_type": "code",
   "execution_count": 7,
   "metadata": {},
   "outputs": [
    {
     "name": "stdout",
     "output_type": "stream",
     "text": [
      "atom_positions\n",
      "(125, 37, 3)\n",
      "\n",
      "\n",
      "aatype\n",
      "(125,)\n",
      "\n",
      "\n",
      "atom_mask\n",
      "(125, 37)\n",
      "\n",
      "\n",
      "residue_index\n",
      "(125,)\n",
      "\n",
      "\n",
      "chain_index\n",
      "(125,)\n",
      "\n",
      "\n",
      "b_factors\n",
      "(125, 37)\n",
      "\n",
      "\n",
      "bb_mask\n",
      "(125,)\n",
      "\n",
      "\n",
      "bb_positions\n",
      "(125, 3)\n",
      "\n",
      "\n",
      "modeled_idx\n",
      "(60,)\n",
      "\n",
      "\n"
     ]
    }
   ],
   "source": [
    "for data_name, data_value in data.items():\n",
    "    print(data_name)\n",
    "    print(data_value.shape)\n",
    "    print(\"\\n\")"
   ]
  },
  {
   "cell_type": "code",
   "execution_count": 8,
   "metadata": {},
   "outputs": [
    {
     "name": "stdout",
     "output_type": "stream",
     "text": [
      "Amino acid: 6, Chain index: 36, Has backbone coords: True, Has any side-chain atoms coords: True, Residue index: 121\n",
      "Amino acid: 8, Chain index: 36, Has backbone coords: True, Has any side-chain atoms coords: True, Residue index: 122\n",
      "Amino acid: 9, Chain index: 36, Has backbone coords: True, Has any side-chain atoms coords: True, Residue index: 123\n",
      "Amino acid: 14, Chain index: 36, Has backbone coords: True, Has any side-chain atoms coords: True, Residue index: 124\n",
      "Amino acid: 7, Chain index: 36, Has backbone coords: True, Has any side-chain atoms coords: True, Residue index: 125\n",
      "Amino acid: 16, Chain index: 36, Has backbone coords: True, Has any side-chain atoms coords: True, Residue index: 126\n",
      "Amino acid: 10, Chain index: 36, Has backbone coords: True, Has any side-chain atoms coords: True, Residue index: 127\n",
      "Amino acid: 1, Chain index: 36, Has backbone coords: True, Has any side-chain atoms coords: True, Residue index: 128\n",
      "Amino acid: 13, Chain index: 36, Has backbone coords: True, Has any side-chain atoms coords: True, Residue index: 129\n",
      "Amino acid: 1, Chain index: 36, Has backbone coords: True, Has any side-chain atoms coords: True, Residue index: 130\n",
      "Amino acid: 10, Chain index: 36, Has backbone coords: True, Has any side-chain atoms coords: True, Residue index: 131\n",
      "Amino acid: 15, Chain index: 36, Has backbone coords: True, Has any side-chain atoms coords: True, Residue index: 132\n",
      "Amino acid: 14, Chain index: 36, Has backbone coords: True, Has any side-chain atoms coords: True, Residue index: 133\n",
      "Amino acid: 0, Chain index: 36, Has backbone coords: True, Has any side-chain atoms coords: True, Residue index: 134\n",
      "Amino acid: 0, Chain index: 36, Has backbone coords: True, Has any side-chain atoms coords: True, Residue index: 135\n",
      "Amino acid: 1, Chain index: 36, Has backbone coords: True, Has any side-chain atoms coords: True, Residue index: 136\n",
      "Amino acid: 2, Chain index: 36, Has backbone coords: True, Has any side-chain atoms coords: True, Residue index: 137\n",
      "Amino acid: 9, Chain index: 36, Has backbone coords: True, Has any side-chain atoms coords: True, Residue index: 138\n",
      "Amino acid: 10, Chain index: 36, Has backbone coords: True, Has any side-chain atoms coords: True, Residue index: 139\n",
      "Amino acid: 6, Chain index: 36, Has backbone coords: True, Has any side-chain atoms coords: True, Residue index: 140\n",
      "Amino acid: 11, Chain index: 36, Has backbone coords: True, Has any side-chain atoms coords: True, Residue index: 141\n",
      "Amino acid: 8, Chain index: 36, Has backbone coords: True, Has any side-chain atoms coords: True, Residue index: 142\n",
      "Amino acid: 15, Chain index: 36, Has backbone coords: True, Has any side-chain atoms coords: True, Residue index: 143\n",
      "Amino acid: 10, Chain index: 36, Has backbone coords: True, Has any side-chain atoms coords: True, Residue index: 144\n",
      "Amino acid: 3, Chain index: 36, Has backbone coords: True, Has any side-chain atoms coords: True, Residue index: 145\n",
      "Amino acid: 0, Chain index: 36, Has backbone coords: True, Has any side-chain atoms coords: True, Residue index: 146\n",
      "Amino acid: 15, Chain index: 36, Has backbone coords: True, Has any side-chain atoms coords: True, Residue index: 147\n",
      "Amino acid: 5, Chain index: 36, Has backbone coords: True, Has any side-chain atoms coords: True, Residue index: 148\n",
      "Amino acid: 7, Chain index: 36, Has backbone coords: True, Has any side-chain atoms coords: True, Residue index: 149\n",
      "Amino acid: 16, Chain index: 36, Has backbone coords: True, Has any side-chain atoms coords: True, Residue index: 150\n",
      "Amino acid: 0, Chain index: 36, Has backbone coords: True, Has any side-chain atoms coords: True, Residue index: 151\n",
      "Amino acid: 16, Chain index: 36, Has backbone coords: True, Has any side-chain atoms coords: True, Residue index: 152\n",
      "Amino acid: 7, Chain index: 36, Has backbone coords: True, Has any side-chain atoms coords: True, Residue index: 153\n",
      "Amino acid: 14, Chain index: 36, Has backbone coords: True, Has any side-chain atoms coords: True, Residue index: 154\n",
      "Amino acid: 1, Chain index: 36, Has backbone coords: True, Has any side-chain atoms coords: True, Residue index: 155\n",
      "Amino acid: 7, Chain index: 36, Has backbone coords: True, Has any side-chain atoms coords: True, Residue index: 156\n",
      "Amino acid: 9, Chain index: 36, Has backbone coords: True, Has any side-chain atoms coords: True, Residue index: 157\n",
      "Amino acid: 13, Chain index: 36, Has backbone coords: True, Has any side-chain atoms coords: True, Residue index: 158\n",
      "Amino acid: 16, Chain index: 36, Has backbone coords: True, Has any side-chain atoms coords: True, Residue index: 159\n",
      "Amino acid: 11, Chain index: 36, Has backbone coords: True, Has any side-chain atoms coords: True, Residue index: 160\n",
      "Amino acid: 6, Chain index: 36, Has backbone coords: True, Has any side-chain atoms coords: True, Residue index: 161\n",
      "Amino acid: 3, Chain index: 36, Has backbone coords: True, Has any side-chain atoms coords: True, Residue index: 162\n",
      "Amino acid: 0, Chain index: 36, Has backbone coords: True, Has any side-chain atoms coords: True, Residue index: 163\n",
      "Amino acid: 10, Chain index: 36, Has backbone coords: True, Has any side-chain atoms coords: True, Residue index: 164\n",
      "Amino acid: 11, Chain index: 36, Has backbone coords: True, Has any side-chain atoms coords: True, Residue index: 165\n",
      "Amino acid: 10, Chain index: 36, Has backbone coords: True, Has any side-chain atoms coords: True, Residue index: 166\n",
      "Amino acid: 19, Chain index: 36, Has backbone coords: True, Has any side-chain atoms coords: True, Residue index: 167\n",
      "Amino acid: 5, Chain index: 36, Has backbone coords: True, Has any side-chain atoms coords: True, Residue index: 168\n",
      "Amino acid: 10, Chain index: 36, Has backbone coords: True, Has any side-chain atoms coords: True, Residue index: 169\n",
      "Amino acid: 11, Chain index: 36, Has backbone coords: True, Has any side-chain atoms coords: True, Residue index: 170\n",
      "Amino acid: 5, Chain index: 36, Has backbone coords: True, Has any side-chain atoms coords: True, Residue index: 171\n",
      "Amino acid: 16, Chain index: 36, Has backbone coords: True, Has any side-chain atoms coords: True, Residue index: 172\n",
      "Amino acid: 7, Chain index: 36, Has backbone coords: True, Has any side-chain atoms coords: True, Residue index: 173\n",
      "Amino acid: 11, Chain index: 36, Has backbone coords: True, Has any side-chain atoms coords: True, Residue index: 174\n",
      "Amino acid: 9, Chain index: 36, Has backbone coords: True, Has any side-chain atoms coords: True, Residue index: 175\n",
      "Amino acid: 10, Chain index: 36, Has backbone coords: True, Has any side-chain atoms coords: True, Residue index: 176\n",
      "Amino acid: 6, Chain index: 36, Has backbone coords: True, Has any side-chain atoms coords: True, Residue index: 177\n",
      "Amino acid: 8, Chain index: 36, Has backbone coords: True, Has any side-chain atoms coords: True, Residue index: 178\n",
      "Amino acid: 8, Chain index: 36, Has backbone coords: True, Has any side-chain atoms coords: True, Residue index: 179\n",
      "Amino acid: 8, Chain index: 36, Has backbone coords: True, Has any side-chain atoms coords: True, Residue index: 180\n",
      "Amino acid: 20, Chain index: 36, Has backbone coords: False, Has any side-chain atoms coords: False, Residue index: 101\n",
      "Amino acid: 20, Chain index: 36, Has backbone coords: False, Has any side-chain atoms coords: False, Residue index: 102\n",
      "Amino acid: 20, Chain index: 36, Has backbone coords: False, Has any side-chain atoms coords: True, Residue index: 1\n",
      "Amino acid: 20, Chain index: 36, Has backbone coords: False, Has any side-chain atoms coords: True, Residue index: 2\n",
      "Amino acid: 20, Chain index: 36, Has backbone coords: False, Has any side-chain atoms coords: True, Residue index: 3\n",
      "Amino acid: 20, Chain index: 36, Has backbone coords: False, Has any side-chain atoms coords: True, Residue index: 4\n",
      "Amino acid: 20, Chain index: 36, Has backbone coords: False, Has any side-chain atoms coords: True, Residue index: 5\n",
      "Amino acid: 20, Chain index: 36, Has backbone coords: False, Has any side-chain atoms coords: True, Residue index: 6\n",
      "Amino acid: 20, Chain index: 36, Has backbone coords: False, Has any side-chain atoms coords: True, Residue index: 7\n",
      "Amino acid: 20, Chain index: 36, Has backbone coords: False, Has any side-chain atoms coords: True, Residue index: 8\n",
      "Amino acid: 20, Chain index: 36, Has backbone coords: False, Has any side-chain atoms coords: True, Residue index: 9\n",
      "Amino acid: 20, Chain index: 36, Has backbone coords: False, Has any side-chain atoms coords: True, Residue index: 10\n",
      "Amino acid: 20, Chain index: 36, Has backbone coords: False, Has any side-chain atoms coords: True, Residue index: 11\n",
      "Amino acid: 20, Chain index: 36, Has backbone coords: False, Has any side-chain atoms coords: True, Residue index: 12\n",
      "Amino acid: 20, Chain index: 36, Has backbone coords: False, Has any side-chain atoms coords: True, Residue index: 13\n",
      "Amino acid: 20, Chain index: 36, Has backbone coords: False, Has any side-chain atoms coords: True, Residue index: 14\n",
      "Amino acid: 20, Chain index: 36, Has backbone coords: False, Has any side-chain atoms coords: True, Residue index: 15\n",
      "Amino acid: 20, Chain index: 36, Has backbone coords: False, Has any side-chain atoms coords: True, Residue index: 16\n",
      "Amino acid: 20, Chain index: 36, Has backbone coords: False, Has any side-chain atoms coords: True, Residue index: 17\n",
      "Amino acid: 20, Chain index: 36, Has backbone coords: False, Has any side-chain atoms coords: True, Residue index: 18\n",
      "Amino acid: 20, Chain index: 36, Has backbone coords: False, Has any side-chain atoms coords: True, Residue index: 19\n",
      "Amino acid: 20, Chain index: 36, Has backbone coords: False, Has any side-chain atoms coords: True, Residue index: 20\n",
      "Amino acid: 20, Chain index: 36, Has backbone coords: False, Has any side-chain atoms coords: True, Residue index: 21\n",
      "Amino acid: 20, Chain index: 36, Has backbone coords: False, Has any side-chain atoms coords: True, Residue index: 22\n",
      "Amino acid: 20, Chain index: 36, Has backbone coords: False, Has any side-chain atoms coords: True, Residue index: 23\n",
      "Amino acid: 20, Chain index: 36, Has backbone coords: False, Has any side-chain atoms coords: True, Residue index: 24\n",
      "Amino acid: 20, Chain index: 36, Has backbone coords: False, Has any side-chain atoms coords: True, Residue index: 25\n",
      "Amino acid: 20, Chain index: 36, Has backbone coords: False, Has any side-chain atoms coords: True, Residue index: 26\n",
      "Amino acid: 20, Chain index: 36, Has backbone coords: False, Has any side-chain atoms coords: True, Residue index: 27\n",
      "Amino acid: 20, Chain index: 36, Has backbone coords: False, Has any side-chain atoms coords: True, Residue index: 28\n",
      "Amino acid: 20, Chain index: 36, Has backbone coords: False, Has any side-chain atoms coords: True, Residue index: 29\n",
      "Amino acid: 20, Chain index: 36, Has backbone coords: False, Has any side-chain atoms coords: True, Residue index: 30\n",
      "Amino acid: 20, Chain index: 36, Has backbone coords: False, Has any side-chain atoms coords: True, Residue index: 31\n",
      "Amino acid: 20, Chain index: 36, Has backbone coords: False, Has any side-chain atoms coords: True, Residue index: 32\n",
      "Amino acid: 20, Chain index: 36, Has backbone coords: False, Has any side-chain atoms coords: True, Residue index: 33\n",
      "Amino acid: 20, Chain index: 36, Has backbone coords: False, Has any side-chain atoms coords: True, Residue index: 34\n",
      "Amino acid: 20, Chain index: 36, Has backbone coords: False, Has any side-chain atoms coords: True, Residue index: 35\n",
      "Amino acid: 20, Chain index: 36, Has backbone coords: False, Has any side-chain atoms coords: True, Residue index: 36\n",
      "Amino acid: 20, Chain index: 36, Has backbone coords: False, Has any side-chain atoms coords: True, Residue index: 37\n",
      "Amino acid: 20, Chain index: 36, Has backbone coords: False, Has any side-chain atoms coords: True, Residue index: 38\n",
      "Amino acid: 20, Chain index: 36, Has backbone coords: False, Has any side-chain atoms coords: True, Residue index: 39\n",
      "Amino acid: 20, Chain index: 36, Has backbone coords: False, Has any side-chain atoms coords: True, Residue index: 40\n",
      "Amino acid: 20, Chain index: 36, Has backbone coords: False, Has any side-chain atoms coords: True, Residue index: 41\n",
      "Amino acid: 20, Chain index: 36, Has backbone coords: False, Has any side-chain atoms coords: True, Residue index: 42\n",
      "Amino acid: 20, Chain index: 36, Has backbone coords: False, Has any side-chain atoms coords: True, Residue index: 43\n",
      "Amino acid: 20, Chain index: 36, Has backbone coords: False, Has any side-chain atoms coords: True, Residue index: 44\n",
      "Amino acid: 20, Chain index: 36, Has backbone coords: False, Has any side-chain atoms coords: True, Residue index: 45\n",
      "Amino acid: 20, Chain index: 36, Has backbone coords: False, Has any side-chain atoms coords: True, Residue index: 46\n",
      "Amino acid: 20, Chain index: 36, Has backbone coords: False, Has any side-chain atoms coords: True, Residue index: 47\n",
      "Amino acid: 20, Chain index: 36, Has backbone coords: False, Has any side-chain atoms coords: True, Residue index: 48\n",
      "Amino acid: 20, Chain index: 36, Has backbone coords: False, Has any side-chain atoms coords: True, Residue index: 49\n",
      "Amino acid: 20, Chain index: 36, Has backbone coords: False, Has any side-chain atoms coords: True, Residue index: 50\n",
      "Amino acid: 20, Chain index: 36, Has backbone coords: False, Has any side-chain atoms coords: True, Residue index: 52\n",
      "Amino acid: 20, Chain index: 36, Has backbone coords: False, Has any side-chain atoms coords: True, Residue index: 53\n",
      "Amino acid: 20, Chain index: 36, Has backbone coords: False, Has any side-chain atoms coords: True, Residue index: 54\n",
      "Amino acid: 20, Chain index: 36, Has backbone coords: False, Has any side-chain atoms coords: True, Residue index: 55\n",
      "Amino acid: 20, Chain index: 36, Has backbone coords: False, Has any side-chain atoms coords: True, Residue index: 56\n",
      "Amino acid: 20, Chain index: 36, Has backbone coords: False, Has any side-chain atoms coords: True, Residue index: 57\n",
      "Amino acid: 20, Chain index: 36, Has backbone coords: False, Has any side-chain atoms coords: True, Residue index: 58\n",
      "Amino acid: 20, Chain index: 36, Has backbone coords: False, Has any side-chain atoms coords: True, Residue index: 59\n",
      "Amino acid: 20, Chain index: 36, Has backbone coords: False, Has any side-chain atoms coords: True, Residue index: 60\n",
      "Amino acid: 20, Chain index: 36, Has backbone coords: False, Has any side-chain atoms coords: True, Residue index: 61\n",
      "Amino acid: 20, Chain index: 36, Has backbone coords: False, Has any side-chain atoms coords: True, Residue index: 62\n",
      "Amino acid: 20, Chain index: 36, Has backbone coords: False, Has any side-chain atoms coords: True, Residue index: 63\n",
      "Amino acid: 20, Chain index: 36, Has backbone coords: False, Has any side-chain atoms coords: True, Residue index: 64\n"
     ]
    }
   ],
   "source": [
    "zipped = zip(data[\"aatype\"], data[\"chain_index\"], data[\"bb_mask\"], data[\"atom_mask\"], data[\"residue_index\"])\n",
    "\n",
    "for aa, chain_idx, bb_mask, a_mask, res_idx in zipped:\n",
    "    print(\n",
    "        f\"Amino acid: {aa}, Chain index: {chain_idx}, Has backbone coords: {bool(bb_mask)}, \"\n",
    "        f\"Has any side-chain atoms coords: {a_mask.any()}, Residue index: {res_idx}\"\n",
    "    )"
   ]
  },
  {
   "cell_type": "code",
   "execution_count": 9,
   "metadata": {},
   "outputs": [
    {
     "data": {
      "text/plain": [
       "np.float64(60.0)"
      ]
     },
     "execution_count": 9,
     "metadata": {},
     "output_type": "execute_result"
    }
   ],
   "source": [
    "data[\"bb_mask\"].sum()"
   ]
  },
  {
   "cell_type": "code",
   "execution_count": 10,
   "metadata": {},
   "outputs": [
    {
     "data": {
      "text/plain": [
       "dict_keys(['atom_positions', 'aatype', 'atom_mask', 'residue_index', 'chain_index', 'b_factors', 'bb_mask', 'bb_positions', 'modeled_idx'])"
      ]
     },
     "execution_count": 10,
     "metadata": {},
     "output_type": "execute_result"
    }
   ],
   "source": [
    "data.keys()"
   ]
  },
  {
   "cell_type": "code",
   "execution_count": 11,
   "metadata": {},
   "outputs": [],
   "source": [
    "bb_mask = data[\"bb_mask\"].astype(bool)\n",
    "a_mask = data[\"atom_mask\"].astype(bool)"
   ]
  },
  {
   "cell_type": "code",
   "execution_count": 12,
   "metadata": {},
   "outputs": [],
   "source": [
    "debug_dir = \"../data/debug\"\n",
    "\n",
    "\n",
    "if not os.path.exists(debug_dir):\n",
    "    os.makedirs(debug_dir, exist_ok=True)\n",
    "\n",
    "\n",
    "debug_2f60_pdb_path = os.path.join(debug_dir, \"2f60.pdb\")\n",
    "\n",
    "saved_path = write_prot_to_pdb(data[\"atom_positions\"], debug_2f60_pdb_path, no_indexing=True, b_factors=None)"
   ]
  },
  {
   "cell_type": "code",
   "execution_count": 20,
   "metadata": {},
   "outputs": [
    {
     "data": {
      "text/plain": [
       "'../data/debug/2f60.pdb'"
      ]
     },
     "execution_count": 20,
     "metadata": {},
     "output_type": "execute_result"
    }
   ],
   "source": [
    "saved_path"
   ]
  },
  {
   "cell_type": "code",
   "execution_count": 18,
   "metadata": {},
   "outputs": [],
   "source": [
    "eval_path = \"../eval_outputs/2f60/default/step_2000/len_60_sample_0_flowed_1.00.pdb\""
   ]
  },
  {
   "cell_type": "code",
   "execution_count": 19,
   "metadata": {},
   "outputs": [],
   "source": [
    "wandb.log({\"2f60\": wandb.Molecule(open(saved_path))})\n",
    "wandb.log({\"Predicted 2f60\": wandb.Molecule(open(eval_path))})"
   ]
  },
  {
   "cell_type": "code",
   "execution_count": null,
   "metadata": {},
   "outputs": [],
   "source": [
    "wandb.finish()"
   ]
  }
 ],
 "metadata": {
  "kernelspec": {
   "display_name": "foldflow-env",
   "language": "python",
   "name": "python3"
  },
  "language_info": {
   "codemirror_mode": {
    "name": "ipython",
    "version": 3
   },
   "file_extension": ".py",
   "mimetype": "text/x-python",
   "name": "python",
   "nbconvert_exporter": "python",
   "pygments_lexer": "ipython3",
   "version": "3.10.0"
  }
 },
 "nbformat": 4,
 "nbformat_minor": 2
}
